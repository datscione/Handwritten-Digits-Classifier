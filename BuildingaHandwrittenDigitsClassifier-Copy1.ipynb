{
 "cells": [
  {
   "cell_type": "markdown",
   "metadata": {
    "collapsed": true
   },
   "source": [
    "We are building a handwritten digits classifier in this image classification guided project. Let's get started! "
   ]
  },
  {
   "cell_type": "code",
   "execution_count": 1,
   "metadata": {
    "collapsed": false
   },
   "outputs": [],
   "source": [
    "from sklearn.datasets import load_digits\n",
    "from sklearn.model_selection import cross_val_score\n",
    "import matplotlib.pyplot as plt\n",
    "import pandas as pd\n",
    "import numpy as np\n",
    "from math import sqrt"
   ]
  },
  {
   "cell_type": "code",
   "execution_count": 2,
   "metadata": {
    "collapsed": false
   },
   "outputs": [
    {
     "data": {
      "text/plain": [
       "dict_keys(['target_names', 'target', 'DESCR', 'data', 'images'])"
      ]
     },
     "execution_count": 2,
     "metadata": {},
     "output_type": "execute_result"
    }
   ],
   "source": [
    "data = load_digits()\n",
    "#data\n",
    "data.keys()"
   ]
  },
  {
   "cell_type": "code",
   "execution_count": 3,
   "metadata": {
    "collapsed": false
   },
   "outputs": [],
   "source": [
    "#len(data['images']) #there is one target name for each image"
   ]
  },
  {
   "cell_type": "markdown",
   "metadata": {},
   "source": [
    "Images is in list of form numpy 2D arrays. We will transform it to a Pandas dataframe."
   ]
  },
  {
   "cell_type": "code",
   "execution_count": 4,
   "metadata": {
    "collapsed": false
   },
   "outputs": [
    {
     "data": {
      "text/plain": [
       "array([[ 0.,  0.,  5., 13.,  9.,  1.,  0.,  0.],\n",
       "       [ 0.,  0., 13., 15., 10., 15.,  5.,  0.],\n",
       "       [ 0.,  3., 15.,  2.,  0., 11.,  8.,  0.],\n",
       "       [ 0.,  4., 12.,  0.,  0.,  8.,  8.,  0.],\n",
       "       [ 0.,  5.,  8.,  0.,  0.,  9.,  8.,  0.],\n",
       "       [ 0.,  4., 11.,  0.,  1., 12.,  7.,  0.],\n",
       "       [ 0.,  2., 14.,  5., 10., 12.,  0.,  0.],\n",
       "       [ 0.,  0.,  6., 13., 10.,  0.,  0.,  0.]])"
      ]
     },
     "execution_count": 4,
     "metadata": {},
     "output_type": "execute_result"
    }
   ],
   "source": [
    "data['images'][0] #gives one image, a numpy 2D array out of the list. For all of data (i.i. without [0], it is a 3D array).\n",
    "#shows us one image is an 8 x 8 (8rows and 8 columns, each pixel is a cell)."
   ]
  },
  {
   "cell_type": "markdown",
   "metadata": {},
   "source": [
    "We need to flatten the 2D arrays so each image will become one row in the df. Each column will be a different pixel."
   ]
  },
  {
   "cell_type": "code",
   "execution_count": 5,
   "metadata": {
    "collapsed": false
   },
   "outputs": [
    {
     "data": {
      "text/plain": [
       "array([ 0.,  0.,  5., 13.,  9.,  1.,  0.,  0.,  0.,  0., 13., 15., 10.,\n",
       "       15.,  5.,  0.,  0.,  3., 15.,  2.,  0., 11.,  8.,  0.,  0.,  4.,\n",
       "       12.,  0.,  0.,  8.,  8.,  0.,  0.,  5.,  8.,  0.,  0.,  9.,  8.,\n",
       "        0.,  0.,  4., 11.,  0.,  1., 12.,  7.,  0.,  0.,  2., 14.,  5.,\n",
       "       10., 12.,  0.,  0.,  0.,  0.,  6., 13., 10.,  0.,  0.,  0.])"
      ]
     },
     "execution_count": 5,
     "metadata": {},
     "output_type": "execute_result"
    }
   ],
   "source": [
    "np.reshape(data['images'][0], 64) #now it is a 1D array"
   ]
  },
  {
   "cell_type": "code",
   "execution_count": 6,
   "metadata": {
    "collapsed": false
   },
   "outputs": [
    {
     "data": {
      "text/plain": [
       "array([[ 0.,  0.,  5., ...,  0.,  0.,  0.],\n",
       "       [ 0.,  0.,  0., ..., 10.,  0.,  0.],\n",
       "       [ 0.,  0.,  0., ..., 16.,  9.,  0.],\n",
       "       ...,\n",
       "       [ 0.,  0.,  1., ...,  6.,  0.,  0.],\n",
       "       [ 0.,  0.,  2., ..., 12.,  0.,  0.],\n",
       "       [ 0.,  0., 10., ..., 12.,  1.,  0.]])"
      ]
     },
     "execution_count": 6,
     "metadata": {},
     "output_type": "execute_result"
    }
   ],
   "source": [
    "flat_data = np.reshape(data['images'], (len(data['images']), 64)) #taking all images in data and reshaping into similar 1D arrays that are 64 in length\n",
    "flat_data"
   ]
  },
  {
   "cell_type": "code",
   "execution_count": 7,
   "metadata": {
    "collapsed": false
   },
   "outputs": [
    {
     "data": {
      "text/plain": [
       "array([ 0.,  0.,  5., 13.,  9.,  1.,  0.,  0.,  0.,  0., 13., 15., 10.,\n",
       "       15.,  5.,  0.,  0.,  3., 15.,  2.,  0., 11.,  8.,  0.,  0.,  4.,\n",
       "       12.,  0.,  0.,  8.,  8.,  0.,  0.,  5.,  8.,  0.,  0.,  9.,  8.,\n",
       "        0.,  0.,  4., 11.,  0.,  1., 12.,  7.,  0.,  0.,  2., 14.,  5.,\n",
       "       10., 12.,  0.,  0.,  0.,  0.,  6., 13., 10.,  0.,  0.,  0.])"
      ]
     },
     "execution_count": 7,
     "metadata": {},
     "output_type": "execute_result"
    }
   ],
   "source": [
    "flat_data[0] #confirms each 2D array is now length 64 1D array. It's becomee a list of 1D array"
   ]
  },
  {
   "cell_type": "code",
   "execution_count": 8,
   "metadata": {
    "collapsed": true
   },
   "outputs": [],
   "source": [
    "data['images'] = flat_data"
   ]
  },
  {
   "cell_type": "code",
   "execution_count": 9,
   "metadata": {
    "collapsed": false
   },
   "outputs": [],
   "source": [
    "image_df = pd.DataFrame(data=flat_data)"
   ]
  },
  {
   "cell_type": "code",
   "execution_count": 10,
   "metadata": {
    "collapsed": false
   },
   "outputs": [
    {
     "name": "stderr",
     "output_type": "stream",
     "text": [
      "/dataquest/system/env/python3/lib/python3.4/site-packages/matplotlib/figure.py:397: UserWarning:\n",
      "\n",
      "matplotlib is currently using a non-GUI backend, so cannot show the figure\n",
      "\n"
     ]
    },
    {
     "data": {
      "image/png": "[encoded data removed]",
      "text/plain": [
       "<matplotlib.figure.Figure at 0x7f1f3aa2a9b0>"
      ]
     },
     "metadata": {},
     "output_type": "display_data"
    }
   ],
   "source": [
    "%matplotlib inline\n",
    "## prepare image and figure\n",
    "fig, axes = plt.subplots(2, 4)\n",
    "\n",
    "\n",
    "axes[0,0].imshow(image_df.iloc[0].values.reshape(8,8), cmap='gray_r')  \n",
    "#.values makes it a numpy array instead of a series\n",
    "#8,8 bc 8 pixels per row and 8 columns\n",
    "#. allows access to imshow method\n",
    "axes[0,1].imshow(image_df.iloc[99].values.reshape(8,8), cmap='gray_r')  \n",
    "axes[0,2].imshow(image_df.iloc[199].values.reshape(8,8), cmap='gray_r')  \n",
    "axes[0,3].imshow(image_df.iloc[299].values.reshape(8,8), cmap='gray_r')  \n",
    "axes[1,0].imshow(image_df.iloc[999].values.reshape(8,8), cmap='gray_r')  \n",
    "axes[1,1].imshow(image_df.iloc[1099].values.reshape(8,8), cmap='gray_r')  \n",
    "axes[1,2].imshow(image_df.iloc[1199].values.reshape(8,8), cmap='gray_r')  \n",
    "axes[1,3].imshow(image_df.iloc[1299].values.reshape(8,8), cmap='gray_r')  \n",
    "fig.show()\n",
    "\n",
    "\n",
    "\n"
   ]
  },
  {
   "cell_type": "code",
   "execution_count": 11,
   "metadata": {
    "collapsed": false
   },
   "outputs": [
    {
     "data": {
      "text/plain": [
       "0    0\n",
       "1    1\n",
       "2    2\n",
       "3    3\n",
       "4    4\n",
       "dtype: int64"
      ]
     },
     "execution_count": 11,
     "metadata": {},
     "output_type": "execute_result"
    }
   ],
   "source": [
    "labels = pd.Series(data['target'])\n",
    "labels.head()"
   ]
  },
  {
   "cell_type": "code",
   "execution_count": 12,
   "metadata": {
    "collapsed": true
   },
   "outputs": [],
   "source": [
    "from sklearn.model_selection import train_test_split\n",
    "x_train, x_test, y_train, y_test = train_test_split(image_df, labels,test_size=0.2)"
   ]
  },
  {
   "cell_type": "code",
   "execution_count": 13,
   "metadata": {
    "collapsed": false
   },
   "outputs": [],
   "source": [
    "from sklearn.neighbors import KNeighborsClassifier\n",
    "def train(x_train, y_train, k):\n",
    "    knn = KNeighborsClassifier(k)\n",
    "    knn.fit(x_train, y_train)\n",
    "    return knn\n",
    "    \n",
    "def test(knn, x_test):\n",
    "    features_predictions = knn.predict(x_test) #put in x, what using to predict model\n",
    "    return features_predictions"
   ]
  },
  {
   "cell_type": "code",
   "execution_count": 14,
   "metadata": {
    "collapsed": false
   },
   "outputs": [],
   "source": [
    "length = len(image_df)*0.2\n",
    "test_length = 359\n"
   ]
  },
  {
   "cell_type": "code",
   "execution_count": 15,
   "metadata": {
    "collapsed": true
   },
   "outputs": [],
   "source": [
    "\n",
    "def cross_validate(k):\n",
    "    trained_models = []\n",
    "    for fold in range (0, 4):\n",
    "        #print(fold)\n",
    "        x_test = image_df.iloc[fold*test_length:(fold+1)*test_length]\n",
    "        #print(x_test.index)\n",
    "        not_test = [i for i in image_df.index if i not in x_test.index]\n",
    "        x_train = image_df.iloc[not_test] #everything not index of x_test\n",
    "        y_test = labels.iloc[fold*test_length:(fold+1)*test_length]\n",
    "        not_test = [i for i in labels.index if i not in y_test.index]\n",
    "        y_train = labels.iloc[not_test] #everything not y_test rows\n",
    "        fit_knn = train(x_train, y_train, k)\n",
    "        accuracy = fit_knn.score(x_test, y_test)#inputting into trained model and gives predictions based on trained model, \n",
    "        #gives predictions based on x_test input and those will be compared to y_test(the ground truth)\n",
    "        trained_models.append(accuracy)\n",
    "    mean_accuracy = np.mean(trained_models)\n",
    "    stddev_accuracy = np.std(trained_models)\n",
    "    return mean_accuracy, stddev_accuracy"
   ]
  },
  {
   "cell_type": "code",
   "execution_count": 16,
   "metadata": {
    "collapsed": false
   },
   "outputs": [],
   "source": [
    "k_vals = pd.DataFrame()\n",
    "for k in range(1,20):\n",
    "    mean_acc, stddev_acc = cross_validate(k)\n",
    "    k_vals.loc[k,'mean_accuracy'] = mean_acc\n",
    "    k_vals.loc[k, 'stddev_accuracy'] = stddev_acc"
   ]
  },
  {
   "cell_type": "code",
   "execution_count": 17,
   "metadata": {
    "collapsed": true
   },
   "outputs": [],
   "source": [
    "k_vals['minus_stddev'] = k_vals['mean_accuracy'] - k_vals['stddev_accuracy']\n",
    "k_vals['plus_stddev'] = k_vals['mean_accuracy'] + k_vals['stddev_accuracy']"
   ]
  },
  {
   "cell_type": "code",
   "execution_count": 18,
   "metadata": {
    "collapsed": false
   },
   "outputs": [
    {
     "data": {
      "image/png": "[encoded data removed]",
      "text/plain": [
       "<matplotlib.figure.Figure at 0x7f1f3aa188d0>"
      ]
     },
     "metadata": {},
     "output_type": "display_data"
    }
   ],
   "source": [
    "plt.scatter(k_vals.index, k_vals['mean_accuracy'], c='red')\n",
    "plt.scatter(k_vals.index, k_vals['minus_stddev'])\n",
    "plt.scatter(k_vals.index, k_vals['plus_stddev'])\n",
    "plt.show()"
   ]
  },
  {
   "cell_type": "code",
   "execution_count": 19,
   "metadata": {
    "collapsed": false
   },
   "outputs": [],
   "source": [
    "k_vals = pd.DataFrame()\n",
    "for k in range(1,20):\n",
    "    knn = KNeighborsClassifier(k)\n",
    "    k_cval = cross_val_score(knn,image_df,labels, cv=4)#gives accuracy for each fold\n",
    "    k_vals.loc[k,'mean_accuracy'] = np.mean(k_cval)\n",
    "    k_vals.loc[k, 'stddev_accuracy'] = np.std(k_cval)"
   ]
  },
  {
   "cell_type": "code",
   "execution_count": 20,
   "metadata": {
    "collapsed": false
   },
   "outputs": [
    {
     "data": {
      "image/png": "[encoded data removed]",
      "text/plain": [
       "<matplotlib.figure.Figure at 0x7f1f37cd46d8>"
      ]
     },
     "metadata": {},
     "output_type": "display_data"
    }
   ],
   "source": [
    "k_vals['minus_stddev'] = k_vals['mean_accuracy'] - k_vals['stddev_accuracy']\n",
    "k_vals['plus_stddev'] = k_vals['mean_accuracy'] + k_vals['stddev_accuracy']\n",
    "plt.scatter(k_vals.index, k_vals['mean_accuracy'], c='red')\n",
    "plt.scatter(k_vals.index, k_vals['minus_stddev'])\n",
    "plt.scatter(k_vals.index, k_vals['plus_stddev'])\n",
    "plt.show()"
   ]
  },
  {
   "cell_type": "markdown",
   "metadata": {},
   "source": [
    "We did this manually and using the cross_val_score method. The data is clustering naturally. Cross validation is used to compare different k values. By doing so, we get idea of how tightly clustered and mixed is the data. Data is naturally going to different locations based on features. Ex k=1 gives very accurate results which means the clusters are mostly the same label and the clusters are separate and distinct (low mixing). "
   ]
  },
  {
   "cell_type": "code",
   "execution_count": 21,
   "metadata": {
    "collapsed": true
   },
   "outputs": [],
   "source": [
    "from sklearn.neighbors import KNeighborsClassifier\n",
    "def train(x_train, y_train, layers):\n",
    "    mlp = MLPClassifier(hidden_layer_sizes=layers)#each element in tuple is a layer and n reps number of neurons\n",
    "    mlp.fit(x_train, y_train)\n",
    "    return mlp\n",
    "    \n",
    "def test(mlp, x_test):\n",
    "    features_predictions = mlp.predict(x_test) #put in x, what using to predict model\n",
    "    return features_predictions\n",
    "def cross_validate(layers,cv=4):\n",
    "    test_trained_scores = []\n",
    "    train_trained_scores = []\n",
    "    for fold in range(0,cv):\n",
    "        #print(fold)\n",
    "        x_test = image_df.iloc[fold*test_length:(fold+1)*test_length]\n",
    "        #print(x_test.index)\n",
    "        not_test = [i for i in image_df.index if i not in x_test.index]\n",
    "        x_train = image_df.iloc[not_test] #everything not index of x_test\n",
    "        y_test = labels.iloc[fold*test_length:(fold+1)*test_length]\n",
    "        not_test = [i for i in labels.index if i not in y_test.index]\n",
    "        y_train = labels.iloc[not_test] #everything not y_test rows\n",
    "        fit_mlp = train(x_train, y_train, n)\n",
    "        train_accuracy = fit_mlp.score(x_train, y_train)\n",
    "        accuracy = fit_mlp.score(x_test, y_test)#inputting into trained model and gives predictions based on trained model, \n",
    "        #gives predictions based on x_test input and those will be compared to y_test(the ground truth)\n",
    "        test_trained_scores.append(accuracy)\n",
    "        train_trained_scores.append(train_accuracy)\n",
    "    test_mean_accuracy = np.mean(test_trained_scores)\n",
    "    test_stddev_accuracy = np.std(test_trained_scores)\n",
    "    train_mean_accuracy = np.mean(train_trained_scores)\n",
    "    train_stddev_accuracy = np.std(train_trained_scores)\n",
    "    return test_mean_accuracy, test_stddev_accuracy, train_mean_accuracy, train_stddev_accuracy"
   ]
  },
  {
   "cell_type": "code",
   "execution_count": 22,
   "metadata": {
    "collapsed": false
   },
   "outputs": [
    {
     "name": "stdout",
     "output_type": "stream",
     "text": [
      "8\n"
     ]
    },
    {
     "name": "stderr",
     "output_type": "stream",
     "text": [
      "/dataquest/system/env/python3/lib/python3.4/site-packages/sklearn/neural_network/multilayer_perceptron.py:563: ConvergenceWarning:\n",
      "\n",
      "Stochastic Optimizer: Maximum iterations reached and the optimization hasn't converged yet.\n",
      "\n"
     ]
    },
    {
     "name": "stdout",
     "output_type": "stream",
     "text": [
      "16\n",
      "32\n",
      "64\n",
      "128\n",
      "256\n"
     ]
    }
   ],
   "source": [
    "from sklearn.neural_network import MLPClassifier\n",
    "mlp = MLPClassifier()\n",
    "neurons = [8, 16, 32, 64, 128, 256]\n",
    "m_vals = pd.DataFrame()\n",
    "for n in neurons :\n",
    "    print(n)\n",
    "    layer = (n)\n",
    "    (test_mean_acc, test_stddev_acc,\n",
    "     train_mean_acc, train_stddev_acc) = cross_validate(layer)\n",
    "    m_vals.loc[n,'test_mean_accuracy'] = test_mean_acc\n",
    "    m_vals.loc[n, 'test_stddev_accuracy'] = test_stddev_acc\n",
    "    m_vals.loc[n,'train_mean_accuracy'] = train_mean_acc\n",
    "    m_vals.loc[n, 'train_stddev_accuracy'] = train_stddev_acc"
   ]
  },
  {
   "cell_type": "code",
   "execution_count": 23,
   "metadata": {
    "collapsed": false
   },
   "outputs": [
    {
     "data": {
      "text/html": [
       "<div>\n",
       "<style scoped>\n",
       "    .dataframe tbody tr th:only-of-type {\n",
       "        vertical-align: middle;\n",
       "    }\n",
       "\n",
       "    .dataframe tbody tr th {\n",
       "        vertical-align: top;\n",
       "    }\n",
       "\n",
       "    .dataframe thead th {\n",
       "        text-align: right;\n",
       "    }\n",
       "</style>\n",
       "<table border=\"1\" class=\"dataframe\">\n",
       "  <thead>\n",
       "    <tr style=\"text-align: right;\">\n",
       "      <th></th>\n",
       "      <th>test_mean_accuracy</th>\n",
       "      <th>test_stddev_accuracy</th>\n",
       "      <th>train_mean_accuracy</th>\n",
       "      <th>train_stddev_accuracy</th>\n",
       "    </tr>\n",
       "  </thead>\n",
       "  <tbody>\n",
       "    <tr>\n",
       "      <th>8</th>\n",
       "      <td>0.831476</td>\n",
       "      <td>0.040197</td>\n",
       "      <td>0.926634</td>\n",
       "      <td>0.029101</td>\n",
       "    </tr>\n",
       "    <tr>\n",
       "      <th>16</th>\n",
       "      <td>0.911560</td>\n",
       "      <td>0.026010</td>\n",
       "      <td>0.994263</td>\n",
       "      <td>0.002619</td>\n",
       "    </tr>\n",
       "    <tr>\n",
       "      <th>32</th>\n",
       "      <td>0.926184</td>\n",
       "      <td>0.025719</td>\n",
       "      <td>1.000000</td>\n",
       "      <td>0.000000</td>\n",
       "    </tr>\n",
       "    <tr>\n",
       "      <th>64</th>\n",
       "      <td>0.937326</td>\n",
       "      <td>0.031790</td>\n",
       "      <td>1.000000</td>\n",
       "      <td>0.000000</td>\n",
       "    </tr>\n",
       "    <tr>\n",
       "      <th>128</th>\n",
       "      <td>0.947075</td>\n",
       "      <td>0.016242</td>\n",
       "      <td>1.000000</td>\n",
       "      <td>0.000000</td>\n",
       "    </tr>\n",
       "    <tr>\n",
       "      <th>256</th>\n",
       "      <td>0.947075</td>\n",
       "      <td>0.013065</td>\n",
       "      <td>1.000000</td>\n",
       "      <td>0.000000</td>\n",
       "    </tr>\n",
       "  </tbody>\n",
       "</table>\n",
       "</div>"
      ],
      "text/plain": [
       "     test_mean_accuracy  test_stddev_accuracy  train_mean_accuracy  \\\n",
       "8              0.831476              0.040197             0.926634   \n",
       "16             0.911560              0.026010             0.994263   \n",
       "32             0.926184              0.025719             1.000000   \n",
       "64             0.937326              0.031790             1.000000   \n",
       "128            0.947075              0.016242             1.000000   \n",
       "256            0.947075              0.013065             1.000000   \n",
       "\n",
       "     train_stddev_accuracy  \n",
       "8                 0.029101  \n",
       "16                0.002619  \n",
       "32                0.000000  \n",
       "64                0.000000  \n",
       "128               0.000000  \n",
       "256               0.000000  "
      ]
     },
     "execution_count": 23,
     "metadata": {},
     "output_type": "execute_result"
    }
   ],
   "source": [
    "m_vals"
   ]
  },
  {
   "cell_type": "markdown",
   "metadata": {},
   "source": [
    "Overfitting has started by 32 neurons (and possibly 16) because this gives accuracy of 1. It's rare to be able to predict unfit data with accuracy of 1. Here variance is increased dramatically with increasing number of neurons. Hence model can tweak parameters to predict training data accurately."
   ]
  },
  {
   "cell_type": "code",
   "execution_count": 24,
   "metadata": {
    "collapsed": false
   },
   "outputs": [
    {
     "data": {
      "text/html": [
       "<div>\n",
       "<style scoped>\n",
       "    .dataframe tbody tr th:only-of-type {\n",
       "        vertical-align: middle;\n",
       "    }\n",
       "\n",
       "    .dataframe tbody tr th {\n",
       "        vertical-align: top;\n",
       "    }\n",
       "\n",
       "    .dataframe thead th {\n",
       "        text-align: right;\n",
       "    }\n",
       "</style>\n",
       "<table border=\"1\" class=\"dataframe\">\n",
       "  <thead>\n",
       "    <tr style=\"text-align: right;\">\n",
       "      <th></th>\n",
       "      <th>test_mean_accuracy</th>\n",
       "      <th>test_stddev_accuracy</th>\n",
       "      <th>train_mean_accuracy</th>\n",
       "      <th>train_stddev_accuracy</th>\n",
       "    </tr>\n",
       "  </thead>\n",
       "  <tbody>\n",
       "    <tr>\n",
       "      <th>8</th>\n",
       "      <td>0.831476</td>\n",
       "      <td>0.040197</td>\n",
       "      <td>0.926634</td>\n",
       "      <td>0.029101</td>\n",
       "    </tr>\n",
       "    <tr>\n",
       "      <th>16</th>\n",
       "      <td>0.911560</td>\n",
       "      <td>0.026010</td>\n",
       "      <td>0.994263</td>\n",
       "      <td>0.002619</td>\n",
       "    </tr>\n",
       "    <tr>\n",
       "      <th>32</th>\n",
       "      <td>0.926184</td>\n",
       "      <td>0.025719</td>\n",
       "      <td>1.000000</td>\n",
       "      <td>0.000000</td>\n",
       "    </tr>\n",
       "    <tr>\n",
       "      <th>64</th>\n",
       "      <td>0.937326</td>\n",
       "      <td>0.031790</td>\n",
       "      <td>1.000000</td>\n",
       "      <td>0.000000</td>\n",
       "    </tr>\n",
       "    <tr>\n",
       "      <th>128</th>\n",
       "      <td>0.947075</td>\n",
       "      <td>0.016242</td>\n",
       "      <td>1.000000</td>\n",
       "      <td>0.000000</td>\n",
       "    </tr>\n",
       "    <tr>\n",
       "      <th>256</th>\n",
       "      <td>0.947075</td>\n",
       "      <td>0.013065</td>\n",
       "      <td>1.000000</td>\n",
       "      <td>0.000000</td>\n",
       "    </tr>\n",
       "    <tr>\n",
       "      <th>2x64</th>\n",
       "      <td>0.944986</td>\n",
       "      <td>0.012822</td>\n",
       "      <td>0.999131</td>\n",
       "      <td>0.001506</td>\n",
       "    </tr>\n",
       "  </tbody>\n",
       "</table>\n",
       "</div>"
      ],
      "text/plain": [
       "      test_mean_accuracy  test_stddev_accuracy  train_mean_accuracy  \\\n",
       "8               0.831476              0.040197             0.926634   \n",
       "16              0.911560              0.026010             0.994263   \n",
       "32              0.926184              0.025719             1.000000   \n",
       "64              0.937326              0.031790             1.000000   \n",
       "128             0.947075              0.016242             1.000000   \n",
       "256             0.947075              0.013065             1.000000   \n",
       "2x64            0.944986              0.012822             0.999131   \n",
       "\n",
       "      train_stddev_accuracy  \n",
       "8                  0.029101  \n",
       "16                 0.002619  \n",
       "32                 0.000000  \n",
       "64                 0.000000  \n",
       "128                0.000000  \n",
       "256                0.000000  \n",
       "2x64               0.001506  "
      ]
     },
     "execution_count": 24,
     "metadata": {},
     "output_type": "execute_result"
    }
   ],
   "source": [
    "layer = (64,64)\n",
    "(test_mean_acc, test_stddev_acc,\n",
    " train_mean_acc, train_stddev_acc) = cross_validate(layer)\n",
    "m_vals.loc['2x64','test_mean_accuracy'] = test_mean_acc\n",
    "m_vals.loc['2x64', 'test_stddev_accuracy'] = test_stddev_acc\n",
    "m_vals.loc['2x64','train_mean_accuracy'] = train_mean_acc\n",
    "m_vals.loc['2x64', 'train_stddev_accuracy'] = train_stddev_acc\n",
    "m_vals"
   ]
  },
  {
   "cell_type": "markdown",
   "metadata": {},
   "source": [
    "Overfitting is occurring. "
   ]
  },
  {
   "cell_type": "code",
   "execution_count": 25,
   "metadata": {
    "collapsed": false
   },
   "outputs": [
    {
     "data": {
      "text/html": [
       "<div>\n",
       "<style scoped>\n",
       "    .dataframe tbody tr th:only-of-type {\n",
       "        vertical-align: middle;\n",
       "    }\n",
       "\n",
       "    .dataframe tbody tr th {\n",
       "        vertical-align: top;\n",
       "    }\n",
       "\n",
       "    .dataframe thead th {\n",
       "        text-align: right;\n",
       "    }\n",
       "</style>\n",
       "<table border=\"1\" class=\"dataframe\">\n",
       "  <thead>\n",
       "    <tr style=\"text-align: right;\">\n",
       "      <th></th>\n",
       "      <th>test_mean_accuracy</th>\n",
       "      <th>test_stddev_accuracy</th>\n",
       "      <th>train_mean_accuracy</th>\n",
       "      <th>train_stddev_accuracy</th>\n",
       "    </tr>\n",
       "  </thead>\n",
       "  <tbody>\n",
       "    <tr>\n",
       "      <th>128</th>\n",
       "      <td>0.947075</td>\n",
       "      <td>0.016242</td>\n",
       "      <td>1.000000</td>\n",
       "      <td>0.000000</td>\n",
       "    </tr>\n",
       "    <tr>\n",
       "      <th>256</th>\n",
       "      <td>0.947075</td>\n",
       "      <td>0.013065</td>\n",
       "      <td>1.000000</td>\n",
       "      <td>0.000000</td>\n",
       "    </tr>\n",
       "    <tr>\n",
       "      <th>2x64</th>\n",
       "      <td>0.944986</td>\n",
       "      <td>0.012822</td>\n",
       "      <td>0.999131</td>\n",
       "      <td>0.001506</td>\n",
       "    </tr>\n",
       "    <tr>\n",
       "      <th>64</th>\n",
       "      <td>0.937326</td>\n",
       "      <td>0.031790</td>\n",
       "      <td>1.000000</td>\n",
       "      <td>0.000000</td>\n",
       "    </tr>\n",
       "    <tr>\n",
       "      <th>32</th>\n",
       "      <td>0.926184</td>\n",
       "      <td>0.025719</td>\n",
       "      <td>1.000000</td>\n",
       "      <td>0.000000</td>\n",
       "    </tr>\n",
       "    <tr>\n",
       "      <th>16</th>\n",
       "      <td>0.911560</td>\n",
       "      <td>0.026010</td>\n",
       "      <td>0.994263</td>\n",
       "      <td>0.002619</td>\n",
       "    </tr>\n",
       "    <tr>\n",
       "      <th>8</th>\n",
       "      <td>0.831476</td>\n",
       "      <td>0.040197</td>\n",
       "      <td>0.926634</td>\n",
       "      <td>0.029101</td>\n",
       "    </tr>\n",
       "  </tbody>\n",
       "</table>\n",
       "</div>"
      ],
      "text/plain": [
       "      test_mean_accuracy  test_stddev_accuracy  train_mean_accuracy  \\\n",
       "128             0.947075              0.016242             1.000000   \n",
       "256             0.947075              0.013065             1.000000   \n",
       "2x64            0.944986              0.012822             0.999131   \n",
       "64              0.937326              0.031790             1.000000   \n",
       "32              0.926184              0.025719             1.000000   \n",
       "16              0.911560              0.026010             0.994263   \n",
       "8               0.831476              0.040197             0.926634   \n",
       "\n",
       "      train_stddev_accuracy  \n",
       "128                0.000000  \n",
       "256                0.000000  \n",
       "2x64               0.001506  \n",
       "64                 0.000000  \n",
       "32                 0.000000  \n",
       "16                 0.002619  \n",
       "8                  0.029101  "
      ]
     },
     "execution_count": 25,
     "metadata": {},
     "output_type": "execute_result"
    }
   ],
   "source": [
    "m_vals.sort_values('test_mean_accuracy',ascending=False)"
   ]
  },
  {
   "cell_type": "markdown",
   "metadata": {},
   "source": [
    "The models with 8 and 16 neurons are the best. 16 may be overfitting as it is almost 1 as well. May need to change model and further experiment."
   ]
  },
  {
   "cell_type": "code",
   "execution_count": 26,
   "metadata": {
    "collapsed": false,
    "scrolled": true
   },
   "outputs": [],
   "source": [
    "n_tuples=[(10,10,10),(64,64,64),(128,128,128)]\n",
    "for layer in n_tuples :\n",
    "    (test_mean_acc, test_stddev_acc,\n",
    "     train_mean_acc, train_stddev_acc) = cross_validate(layer,6)\n",
    "    m_vals.loc[str(layer),'test_mean_accuracy'] = test_mean_acc\n",
    "    m_vals.loc[str(layer), 'test_stddev_accuracy'] = test_stddev_acc\n",
    "    m_vals.loc[str(layer),'train_mean_accuracy'] = train_mean_acc\n",
    "    m_vals.loc[str(layer), 'train_stddev_accuracy'] = train_stddev_acc\n",
    "  "
   ]
  },
  {
   "cell_type": "code",
   "execution_count": 27,
   "metadata": {
    "collapsed": false
   },
   "outputs": [
    {
     "data": {
      "text/html": [
       "<div>\n",
       "<style scoped>\n",
       "    .dataframe tbody tr th:only-of-type {\n",
       "        vertical-align: middle;\n",
       "    }\n",
       "\n",
       "    .dataframe tbody tr th {\n",
       "        vertical-align: top;\n",
       "    }\n",
       "\n",
       "    .dataframe thead th {\n",
       "        text-align: right;\n",
       "    }\n",
       "</style>\n",
       "<table border=\"1\" class=\"dataframe\">\n",
       "  <thead>\n",
       "    <tr style=\"text-align: right;\">\n",
       "      <th></th>\n",
       "      <th>test_mean_accuracy</th>\n",
       "      <th>test_stddev_accuracy</th>\n",
       "      <th>train_mean_accuracy</th>\n",
       "      <th>train_stddev_accuracy</th>\n",
       "    </tr>\n",
       "  </thead>\n",
       "  <tbody>\n",
       "    <tr>\n",
       "      <th>8</th>\n",
       "      <td>0.831476</td>\n",
       "      <td>0.040197</td>\n",
       "      <td>0.926634</td>\n",
       "      <td>0.029101</td>\n",
       "    </tr>\n",
       "    <tr>\n",
       "      <th>16</th>\n",
       "      <td>0.911560</td>\n",
       "      <td>0.026010</td>\n",
       "      <td>0.994263</td>\n",
       "      <td>0.002619</td>\n",
       "    </tr>\n",
       "    <tr>\n",
       "      <th>32</th>\n",
       "      <td>0.926184</td>\n",
       "      <td>0.025719</td>\n",
       "      <td>1.000000</td>\n",
       "      <td>0.000000</td>\n",
       "    </tr>\n",
       "    <tr>\n",
       "      <th>64</th>\n",
       "      <td>0.937326</td>\n",
       "      <td>0.031790</td>\n",
       "      <td>1.000000</td>\n",
       "      <td>0.000000</td>\n",
       "    </tr>\n",
       "    <tr>\n",
       "      <th>128</th>\n",
       "      <td>0.947075</td>\n",
       "      <td>0.016242</td>\n",
       "      <td>1.000000</td>\n",
       "      <td>0.000000</td>\n",
       "    </tr>\n",
       "    <tr>\n",
       "      <th>256</th>\n",
       "      <td>0.947075</td>\n",
       "      <td>0.013065</td>\n",
       "      <td>1.000000</td>\n",
       "      <td>0.000000</td>\n",
       "    </tr>\n",
       "    <tr>\n",
       "      <th>2x64</th>\n",
       "      <td>0.944986</td>\n",
       "      <td>0.012822</td>\n",
       "      <td>0.999131</td>\n",
       "      <td>0.001506</td>\n",
       "    </tr>\n",
       "    <tr>\n",
       "      <th>(10, 10, 10)</th>\n",
       "      <td>0.957289</td>\n",
       "      <td>0.026360</td>\n",
       "      <td>1.000000</td>\n",
       "      <td>0.000000</td>\n",
       "    </tr>\n",
       "    <tr>\n",
       "      <th>(64, 64, 64)</th>\n",
       "      <td>0.954039</td>\n",
       "      <td>0.028712</td>\n",
       "      <td>1.000000</td>\n",
       "      <td>0.000000</td>\n",
       "    </tr>\n",
       "    <tr>\n",
       "      <th>(128, 128, 128)</th>\n",
       "      <td>0.954039</td>\n",
       "      <td>0.027138</td>\n",
       "      <td>1.000000</td>\n",
       "      <td>0.000000</td>\n",
       "    </tr>\n",
       "  </tbody>\n",
       "</table>\n",
       "</div>"
      ],
      "text/plain": [
       "                 test_mean_accuracy  test_stddev_accuracy  \\\n",
       "8                          0.831476              0.040197   \n",
       "16                         0.911560              0.026010   \n",
       "32                         0.926184              0.025719   \n",
       "64                         0.937326              0.031790   \n",
       "128                        0.947075              0.016242   \n",
       "256                        0.947075              0.013065   \n",
       "2x64                       0.944986              0.012822   \n",
       "(10, 10, 10)               0.957289              0.026360   \n",
       "(64, 64, 64)               0.954039              0.028712   \n",
       "(128, 128, 128)            0.954039              0.027138   \n",
       "\n",
       "                 train_mean_accuracy  train_stddev_accuracy  \n",
       "8                           0.926634               0.029101  \n",
       "16                          0.994263               0.002619  \n",
       "32                          1.000000               0.000000  \n",
       "64                          1.000000               0.000000  \n",
       "128                         1.000000               0.000000  \n",
       "256                         1.000000               0.000000  \n",
       "2x64                        0.999131               0.001506  \n",
       "(10, 10, 10)                1.000000               0.000000  \n",
       "(64, 64, 64)                1.000000               0.000000  \n",
       "(128, 128, 128)             1.000000               0.000000  "
      ]
     },
     "execution_count": 27,
     "metadata": {},
     "output_type": "execute_result"
    }
   ],
   "source": [
    "  m_vals"
   ]
  },
  {
   "cell_type": "code",
   "execution_count": 28,
   "metadata": {
    "collapsed": false
   },
   "outputs": [
    {
     "data": {
      "text/html": [
       "<div>\n",
       "<style scoped>\n",
       "    .dataframe tbody tr th:only-of-type {\n",
       "        vertical-align: middle;\n",
       "    }\n",
       "\n",
       "    .dataframe tbody tr th {\n",
       "        vertical-align: top;\n",
       "    }\n",
       "\n",
       "    .dataframe thead th {\n",
       "        text-align: right;\n",
       "    }\n",
       "</style>\n",
       "<table border=\"1\" class=\"dataframe\">\n",
       "  <thead>\n",
       "    <tr style=\"text-align: right;\">\n",
       "      <th></th>\n",
       "      <th>test_mean_accuracy</th>\n",
       "      <th>test_stddev_accuracy</th>\n",
       "      <th>train_mean_accuracy</th>\n",
       "      <th>train_stddev_accuracy</th>\n",
       "    </tr>\n",
       "  </thead>\n",
       "  <tbody>\n",
       "    <tr>\n",
       "      <th>(10, 10, 10)</th>\n",
       "      <td>0.957289</td>\n",
       "      <td>0.026360</td>\n",
       "      <td>1.000000</td>\n",
       "      <td>0.000000</td>\n",
       "    </tr>\n",
       "    <tr>\n",
       "      <th>(64, 64, 64)</th>\n",
       "      <td>0.954039</td>\n",
       "      <td>0.028712</td>\n",
       "      <td>1.000000</td>\n",
       "      <td>0.000000</td>\n",
       "    </tr>\n",
       "    <tr>\n",
       "      <th>(128, 128, 128)</th>\n",
       "      <td>0.954039</td>\n",
       "      <td>0.027138</td>\n",
       "      <td>1.000000</td>\n",
       "      <td>0.000000</td>\n",
       "    </tr>\n",
       "    <tr>\n",
       "      <th>128</th>\n",
       "      <td>0.947075</td>\n",
       "      <td>0.016242</td>\n",
       "      <td>1.000000</td>\n",
       "      <td>0.000000</td>\n",
       "    </tr>\n",
       "    <tr>\n",
       "      <th>256</th>\n",
       "      <td>0.947075</td>\n",
       "      <td>0.013065</td>\n",
       "      <td>1.000000</td>\n",
       "      <td>0.000000</td>\n",
       "    </tr>\n",
       "    <tr>\n",
       "      <th>2x64</th>\n",
       "      <td>0.944986</td>\n",
       "      <td>0.012822</td>\n",
       "      <td>0.999131</td>\n",
       "      <td>0.001506</td>\n",
       "    </tr>\n",
       "    <tr>\n",
       "      <th>64</th>\n",
       "      <td>0.937326</td>\n",
       "      <td>0.031790</td>\n",
       "      <td>1.000000</td>\n",
       "      <td>0.000000</td>\n",
       "    </tr>\n",
       "    <tr>\n",
       "      <th>32</th>\n",
       "      <td>0.926184</td>\n",
       "      <td>0.025719</td>\n",
       "      <td>1.000000</td>\n",
       "      <td>0.000000</td>\n",
       "    </tr>\n",
       "    <tr>\n",
       "      <th>16</th>\n",
       "      <td>0.911560</td>\n",
       "      <td>0.026010</td>\n",
       "      <td>0.994263</td>\n",
       "      <td>0.002619</td>\n",
       "    </tr>\n",
       "    <tr>\n",
       "      <th>8</th>\n",
       "      <td>0.831476</td>\n",
       "      <td>0.040197</td>\n",
       "      <td>0.926634</td>\n",
       "      <td>0.029101</td>\n",
       "    </tr>\n",
       "  </tbody>\n",
       "</table>\n",
       "</div>"
      ],
      "text/plain": [
       "                 test_mean_accuracy  test_stddev_accuracy  \\\n",
       "(10, 10, 10)               0.957289              0.026360   \n",
       "(64, 64, 64)               0.954039              0.028712   \n",
       "(128, 128, 128)            0.954039              0.027138   \n",
       "128                        0.947075              0.016242   \n",
       "256                        0.947075              0.013065   \n",
       "2x64                       0.944986              0.012822   \n",
       "64                         0.937326              0.031790   \n",
       "32                         0.926184              0.025719   \n",
       "16                         0.911560              0.026010   \n",
       "8                          0.831476              0.040197   \n",
       "\n",
       "                 train_mean_accuracy  train_stddev_accuracy  \n",
       "(10, 10, 10)                1.000000               0.000000  \n",
       "(64, 64, 64)                1.000000               0.000000  \n",
       "(128, 128, 128)             1.000000               0.000000  \n",
       "128                         1.000000               0.000000  \n",
       "256                         1.000000               0.000000  \n",
       "2x64                        0.999131               0.001506  \n",
       "64                          1.000000               0.000000  \n",
       "32                          1.000000               0.000000  \n",
       "16                          0.994263               0.002619  \n",
       "8                           0.926634               0.029101  "
      ]
     },
     "execution_count": 28,
     "metadata": {},
     "output_type": "execute_result"
    }
   ],
   "source": [
    "m_vals.sort_values('test_mean_accuracy',ascending=False)"
   ]
  },
  {
   "cell_type": "markdown",
   "metadata": {},
   "source": [
    "Overfitting began possibly as early as the model with 16 neurons, and most certainly by 32 neurons. Models for which the accuracy is 1 are generally overfitting."
   ]
  },
  {
   "cell_type": "code",
   "execution_count": null,
   "metadata": {
    "collapsed": true
   },
   "outputs": [],
   "source": []
  }
 ],
 "metadata": {
  "anaconda-cloud": {},
  "kernelspec": {
   "display_name": "Python 3",
   "language": "python",
   "name": "python3"
  },
  "language_info": {
   "codemirror_mode": {
    "name": "ipython",
    "version": 3
   },
   "file_extension": ".py",
   "mimetype": "text/x-python",
   "name": "python",
   "nbconvert_exporter": "python",
   "pygments_lexer": "ipython3",
   "version": "3.4.3"
  }
 },
 "nbformat": 4,
 "nbformat_minor": 2
}
